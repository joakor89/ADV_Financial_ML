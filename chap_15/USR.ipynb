{
 "cells": [
  {
   "cell_type": "markdown",
   "id": "55940969-6026-4c1b-a424-0383821af282",
   "metadata": {},
   "source": [
    "# Understanding Strategy Risk\n",
    "\n",
    "### Loading Libraries"
   ]
  },
  {
   "cell_type": "code",
   "execution_count": 1,
   "id": "c7a1d137-c651-421a-917a-c3109b5e739f",
   "metadata": {},
   "outputs": [],
   "source": [
    "# Randomness\n",
    "import random\n",
    "\n",
    "# Numerical Computing\n",
    "import numpy as np\n",
    "\n",
    "# Data Manipulation\n",
    "import pandas as pd\n",
    "from pandas import Timestamp\n",
    "\n",
    "# Data Visualization\n",
    "import seaborn as sns\n",
    "import matplotlib.pyplot as plt\n",
    "\n",
    "import plotly.graph_objects as go\n",
    "import plotly.io as pio\n",
    "%matplotlib inline\n",
    "\n",
    "# Date & Time\n",
    "from datetime import datetime, timedelta\n",
    "\n",
    "# Typing\n",
    "from typing import Tuple, List, Dict, Union, Optional, Any, Generator\n",
    "\n",
    "# Scikit-Learn\n",
    "from sklearn.pipeline import Pipeline\n",
    "from sklearn.metrics import RocCurveDisplay\n",
    "from sklearn.preprocessing import MinMaxScaler\n",
    "from sklearn.tree import DecisionTreeClassifier\n",
    "from sklearn.ensemble import BaggingClassifier\n",
    "from sklearn.datasets import make_classification\n",
    "from sklearn.ensemble import RandomForestClassifier\n",
    "from sklearn.model_selection import train_test_split\n",
    "from sklearn.model_selection._split import _BaseKFold\n",
    "from sklearn.model_selection import StratifiedKFold, GridSearchCV, RandomizedSearchCV\n",
    "from sklearn.metrics import accuracy_score, precision_score, recall_score, log_loss\n",
    "\n",
    "# Scientific Statistical Python\n",
    "import scipy.cluster.hierarchy as sch\n",
    "from scipy.stats import jarque_bera\n",
    "from scipy.stats import rv_continuous, kstest, norm"
   ]
  },
  {
   "cell_type": "markdown",
   "id": "652d521b-24e3-4dee-bfe9-cf5ce4601305",
   "metadata": {},
   "source": [
    "### Symmetric Payouts"
   ]
  },
  {
   "cell_type": "code",
   "execution_count": 4,
   "id": "6bef4e0d",
   "metadata": {},
   "outputs": [],
   "source": [
    "def estimate_SR(prob: float, sl: float, pt: float, freq: float, num_trials: int = 1000000) -> float:\n",
    "    out = []\n",
    "    for i in range(num_trials):\n",
    "        rnd = np.random.binomial(n=1, p=prob)\n",
    "        if rnd == 1:\n",
    "            x = pt\n",
    "        else:\n",
    "            x = sl\n",
    "        out.append(x)\n",
    "    sr = np.mean(out) / np.std(out) * np.sqrt(freq)\n",
    "    return sr"
   ]
  },
  {
   "cell_type": "code",
   "execution_count": null,
   "id": "a7518e5a",
   "metadata": {},
   "outputs": [],
   "source": [
    "### The Probability of Startegy Failure\n",
    "#### Algo"
   ]
  }
 ],
 "metadata": {
  "kernelspec": {
   "display_name": "Python 3 (ipykernel)",
   "language": "python",
   "name": "python3"
  },
  "language_info": {
   "codemirror_mode": {
    "name": "ipython",
    "version": 3
   },
   "file_extension": ".py",
   "mimetype": "text/x-python",
   "name": "python",
   "nbconvert_exporter": "python",
   "pygments_lexer": "ipython3",
   "version": "3.11.10"
  }
 },
 "nbformat": 4,
 "nbformat_minor": 5
}
