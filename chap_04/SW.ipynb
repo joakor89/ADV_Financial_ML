{
 "cells": [
  {
   "cell_type": "markdown",
   "id": "07fb76f9-644b-43c3-b763-ccb323954c9a",
   "metadata": {},
   "source": [
    "# Sample Weights\n",
    "\n",
    "### Loading Libraries"
   ]
  },
  {
   "cell_type": "code",
   "execution_count": 1,
   "id": "61c29abe-ceca-45c3-aea8-598cd6d007d9",
   "metadata": {},
   "outputs": [],
   "source": [
    "# Randomness\n",
    "import random\n",
    "\n",
    "\n",
    "# Numerical Computing\n",
    "import numpy as np\n",
    "\n",
    "# Data Manipulation\n",
    "import pandas as pd\n",
    "from pandas import Timestamp\n",
    "\n",
    "# Data Visualization\n",
    "import seaborn as sns\n",
    "import matplotlib.pyplot as plt\n",
    "\n",
    "import plotly.graph_objects as go\n",
    "import plotly.io as pio\n",
    "%matplotlib inline\n",
    "\n",
    "# Date & Time\n",
    "from datetime import datetime, timedelta\n",
    "\n",
    "# Typing\n",
    "from typing import Tuple, List, Dict, Union, Optional, Any, Generator\n",
    "\n",
    "# Scikit-Learn\n",
    "from sklearn.preprocessing import MinMaxScaler\n",
    "from sklearn.ensemble import RandomForestClassifier\n",
    "from sklearn.model_selection import train_test_split\n",
    "from sklearn.metrics import accuracy_score, precision_score, recall_score, plot_roc_curve\n",
    "\n",
    "# Scientific Statistical Python\n",
    "from scipy.stats import jarque_bera"
   ]
  },
  {
   "cell_type": "markdown",
   "id": "c1cc0201-f689-4eef-97e5-57406c664a38",
   "metadata": {},
   "source": [
    "### Number of Concurrent Labels"
   ]
  },
  {
   "cell_type": "code",
   "execution_count": 2,
   "id": "ecb5445f-c254-4683-a2ca-e6b6a691e187",
   "metadata": {},
   "outputs": [],
   "source": [
    "def num_conc_events(closeIdx: np.ndarray, t1: pd.Series, molecule: np.ndarray) -> pd.Series:\n",
    "    t1 = t1.fillna(closeIdx[-1])\n",
    "    t1 = t1[t1 >= molecule[0]]\n",
    "    t1 = t1.loc[:t1[molecule].max()]\n",
    "    iloc = closeIdx.searchsorted(pd.DatetimeIndex([t1.index[0], t1.max()]))\n",
    "    count = pd.Series([0] * (iloc[1] + 1 - iloc[0]), index=closeIdx[iloc[0]: iloc[1] + 1])\n",
    "    for tIn, tOut in t1.iteritems():\n",
    "        count.loc[tIn: tOut] += 1\n",
    "    return count.loc[molecule[0]: t1[molecule].max()]"
   ]
  },
  {
   "cell_type": "markdown",
   "id": "9b240fc2-1806-4e67-b4d3-07c37944ef13",
   "metadata": {},
   "source": [
    "### Estimating The Label's Average Uniqueness"
   ]
  },
  {
   "cell_type": "code",
   "execution_count": 3,
   "id": "325d6cd0-a2fa-4fe6-a176-b408055ba29d",
   "metadata": {},
   "outputs": [],
   "source": [
    "def sample_weights(t1: pd.Series, num_conc_events: pd.Series, molecule: np.ndarray) -> pd.Series:\n",
    "    weights = pd.Series([0] * len(molecule), index=molecule)\n",
    "    for tIn, tOut in t1.loc[weights.index].iteritems():\n",
    "        weights.loc[tIn] = (1.0 / num_conc_events.loc[tIn: tOut]).mean()\n",
    "    return weights"
   ]
  },
  {
   "cell_type": "markdown",
   "id": "53239486-56d9-45fa-820a-0e33147a7c18",
   "metadata": {},
   "source": [
    "### Sequential Bootstrap\n",
    "\n",
    "#### Indication Matrix"
   ]
  },
  {
   "cell_type": "code",
   "execution_count": 4,
   "id": "c0244bfe-896d-4d48-8737-3bbc1528e51d",
   "metadata": {},
   "outputs": [],
   "source": [
    "def get_ind_matrix(barIdx: np.ndarray, t1: pd.Series) -> pd.DataFrame:\n",
    "    indM = pd.DataFrame(0, index=barIdx, columns=range(t1.shape[0]))\n",
    "    for i, (t0, t1) in enumerate(t1.iteritems()):\n",
    "        indM.loc[t0:t1, i] = 1.0\n",
    "    return indM"
   ]
  },
  {
   "cell_type": "markdown",
   "id": "ccf1fdbd-b3bc-4f0e-a74a-6106eeb1ed96",
   "metadata": {},
   "source": [
    "#### Computing Average Uniqueness"
   ]
  },
  {
   "cell_type": "code",
   "execution_count": 6,
   "id": "26f5fdb6-d8ca-46ac-a3db-7bcaef27db1c",
   "metadata": {},
   "outputs": [],
   "source": [
    "def get_avg_uniqueness(indM: pd.DataFrame) -> float:\n",
    "    c = indM.sum(axis=1)\n",
    "    u = indM.div(c, axis=0)\n",
    "    avg_uniq = u[u > 0].mean()\n",
    "    return avg_uniq"
   ]
  },
  {
   "cell_type": "markdown",
   "id": "54d81692-a4ad-4510-b5a8-ecf39d1f7562",
   "metadata": {},
   "source": [
    "#### Sequential Bootstrap Sample Return"
   ]
  },
  {
   "cell_type": "code",
   "execution_count": 7,
   "id": "25b6b6cf-90cd-43a7-b68c-63c2b85253a9",
   "metadata": {},
   "outputs": [],
   "source": [
    "def seq_bootstrap(indM: pd.DataFrame, sLength: int = None) -> np.ndarray:\n",
    "    if sLength is None:\n",
    "        sLength = indM.shape[1]\n",
    "    phi = []\n",
    "    while len(phi) < sLength:\n",
    "        avg_uniq = pd.Series()\n",
    "        for i in indM:\n",
    "            indM_ = indM[phi + [i]]\n",
    "            avg_uniq.loc[i] = get_avg_uniqueness(indM_).iloc[-1]\n",
    "        prob = avg_uniq / avg_uniq.sum()\n",
    "        phi += [np.random.choice(indM.columns, p=prob)]\n",
    "    return np.array(phi)"
   ]
  },
  {
   "cell_type": "markdown",
   "id": "0d95e517-bbe8-41e0-811b-c02454bec07a",
   "metadata": {},
   "source": [
    "#### Random T-1 Series"
   ]
  },
  {
   "cell_type": "code",
   "execution_count": 8,
   "id": "a7626401-1d82-4144-8014-a34f30fad6ca",
   "metadata": {},
   "outputs": [],
   "source": [
    "def gen_rand_t1(numObs: int, numBars: int, maxH: int) -> pd.Series:\n",
    "    t1 = pd.Series()\n",
    "    for i in range(numObs):\n",
    "        idx = np.random.randint(0, numBars)\n",
    "        val = idx + np.random.randint(1, maxH)\n",
    "        t1.loc[idx] = val\n",
    "    return t1.sort_index()"
   ]
  },
  {
   "cell_type": "markdown",
   "id": "5284ac82-1f5c-48ea-ad19-1abda34e69f1",
   "metadata": {},
   "source": [
    "#### Multi-Threaded Monte Carlo"
   ]
  },
  {
   "cell_type": "code",
   "execution_count": 9,
   "id": "fa89b08f-c6d1-4cb7-a645-3afc03f9cd53",
   "metadata": {},
   "outputs": [],
   "source": [
    "def main_MC(numObs: int, numBars: int, maxH: int, numIters: int) -> None:\n",
    "    out = pd.DataFrame()\n",
    "    for i in range(numIters):\n",
    "        out = pd.concat((out, pd.DataFrame([aux_MC(numObs, numBars, maxH)])))\n",
    "    return out"
   ]
  },
  {
   "cell_type": "markdown",
   "id": "75b2fc6c-339a-47e2-940c-bd74afcf5d72",
   "metadata": {},
   "source": [
    "### Return Attirubtion\n",
    "\n",
    "#### Sample Weight Determination by Absolute Return Attribution"
   ]
  },
  {
   "cell_type": "code",
   "execution_count": 10,
   "id": "f23b7598-abf8-4eb3-947e-3dcfaa707be3",
   "metadata": {},
   "outputs": [],
   "source": [
    "def sample_return_weights(t1: pd.Series, num_conc_events: pd.Series, close: pd.Series, molecule: np.ndarray) -> pd.Series:\n",
    "    ret = np.log(close).diff()\n",
    "    weights = pd.Series(index=molecule, dtype=object)\n",
    "    for tIn, tOut in t1.loc[weights.index].iteritems():\n",
    "        weights.loc[tIn] = (ret.loc[tIn: tOut] / num_conc_events.loc[tIn: tOut]).sum()\n",
    "    return weights.abs()"
   ]
  },
  {
   "cell_type": "markdown",
   "id": "487c4415-d56c-407f-b91a-5096c35aa561",
   "metadata": {},
   "source": [
    "### Time Decay\n",
    "\n",
    "#### Time-Decay Factors Implementation "
   ]
  },
  {
   "cell_type": "code",
   "execution_count": 11,
   "id": "15cd49db-53b9-4e6c-bbcc-7224dd192e12",
   "metadata": {},
   "outputs": [],
   "source": [
    "def get_time_decay(tW: pd.Series, clfLastW: float = 1.0) -> pd.Series:\n",
    "    clfW = tW.sort_index().cumsum()\n",
    "    if clfLastW >= 0:\n",
    "        slope = (1.0 - clfLastW) / clfW.iloc[-1]\n",
    "    else:\n",
    "        slope = 1. / ((clfLastW + 1) * clfW.iloc[-1])\n",
    "    const = 1.0 - slope * clfW.iloc[-1]\n",
    "    clfW = const + slope * clfW\n",
    "    clfW[clfW < 0] = 0\n",
    "    return clfW"
   ]
  },
  {
   "cell_type": "code",
   "execution_count": null,
   "id": "0da88796-a99c-4271-95f1-dc17876ffa84",
   "metadata": {},
   "outputs": [],
   "source": []
  }
 ],
 "metadata": {
  "kernelspec": {
   "display_name": "Python 3 (ipykernel)",
   "language": "python",
   "name": "python3"
  },
  "language_info": {
   "codemirror_mode": {
    "name": "ipython",
    "version": 3
   },
   "file_extension": ".py",
   "mimetype": "text/x-python",
   "name": "python",
   "nbconvert_exporter": "python",
   "pygments_lexer": "ipython3",
   "version": "3.11.10"
  }
 },
 "nbformat": 4,
 "nbformat_minor": 5
}
