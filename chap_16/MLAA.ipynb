{
 "cells": [
  {
   "cell_type": "markdown",
   "id": "51119750-e230-4396-9b3a-674f16c391cf",
   "metadata": {},
   "source": [
    "# Machine Learning Asset Allocation\n",
    "\n",
    "### Loading Libraries"
   ]
  },
  {
   "cell_type": "code",
   "execution_count": 2,
   "id": "0f44a730-aa8a-49e7-ae27-47053cffa839",
   "metadata": {},
   "outputs": [],
   "source": [
    "# Randomness\n",
    "import random\n",
    "\n",
    "# Numerical Computing\n",
    "import numpy as np\n",
    "\n",
    "# Data Manipulation\n",
    "import pandas as pd\n",
    "from pandas import Timestamp\n",
    "\n",
    "# Data Visualization\n",
    "import seaborn as sns\n",
    "import matplotlib.pyplot as plt\n",
    "\n",
    "import plotly.graph_objects as go\n",
    "import plotly.io as pio\n",
    "%matplotlib inline\n",
    "\n",
    "# Date & Time\n",
    "from datetime import datetime, timedelta\n",
    "\n",
    "# Typing\n",
    "from typing import Tuple, List, Dict, Union, Optional, Any, Generator\n",
    "\n",
    "# Scikit-Learn\n",
    "from sklearn.pipeline import Pipeline\n",
    "from sklearn.metrics import RocCurveDisplay\n",
    "from sklearn.preprocessing import MinMaxScaler\n",
    "from sklearn.tree import DecisionTreeClassifier\n",
    "from sklearn.ensemble import BaggingClassifier\n",
    "from sklearn.datasets import make_classification\n",
    "from sklearn.ensemble import RandomForestClassifier\n",
    "from sklearn.model_selection import train_test_split\n",
    "from sklearn.model_selection._split import _BaseKFold\n",
    "from sklearn.model_selection import StratifiedKFold, GridSearchCV, RandomizedSearchCV\n",
    "from sklearn.metrics import accuracy_score, precision_score, recall_score, log_loss\n",
    "\n",
    "# Scientific Statistical Python\n",
    "import scipy.cluster.hierarchy as sch\n",
    "from scipy.stats import jarque_bera\n",
    "from scipy.stats import rv_continuous, kstest, norm"
   ]
  },
  {
   "cell_type": "markdown",
   "id": "4eb1eae5-8520-4d96-91ce-d7a5d8a6aad7",
   "metadata": {},
   "source": [
    "#### Inverse Invariance Portafolio"
   ]
  },
  {
   "cell_type": "code",
   "execution_count": 3,
   "id": "e1ab0e77-db31-4b14-a37a-3f3792535465",
   "metadata": {},
   "outputs": [],
   "source": [
    "def get_ivp(cov: np.ndarray, **kargs) -> np.ndarray:\n",
    "    ivp = 1.0 / np.diag(cov)\n",
    "    ivp /= ivp.sum()\n",
    "    return ivp"
   ]
  },
  {
   "cell_type": "markdown",
   "id": "a092f7df-5c3c-42ba-b972-fb289ca7df5c",
   "metadata": {},
   "source": [
    "#### Variance per Cluster"
   ]
  },
  {
   "cell_type": "code",
   "execution_count": 4,
   "id": "df07d3bf-2054-4759-adcc-769c443455a9",
   "metadata": {},
   "outputs": [],
   "source": [
    "def get_cluster_var(cov: np.ndarray, cItems: np.ndarray) -> float:\n",
    "    cov_ = cov.loc[cItems, cItems]    # matrix slice\n",
    "    w_ = get_ivp(cov_).reshape(-1, 1)\n",
    "    cVar = np.dot(np.dot(w_.T, cov_), w_)[0, 0]\n",
    "    return cVar"
   ]
  },
  {
   "cell_type": "code",
   "execution_count": null,
   "id": "5d2ced05-e141-4a83-8169-72cc45373c75",
   "metadata": {},
   "outputs": [],
   "source": []
  }
 ],
 "metadata": {
  "kernelspec": {
   "display_name": "Python 3 (ipykernel)",
   "language": "python",
   "name": "python3"
  },
  "language_info": {
   "codemirror_mode": {
    "name": "ipython",
    "version": 3
   },
   "file_extension": ".py",
   "mimetype": "text/x-python",
   "name": "python",
   "nbconvert_exporter": "python",
   "pygments_lexer": "ipython3",
   "version": "3.11.10"
  }
 },
 "nbformat": 4,
 "nbformat_minor": 5
}
