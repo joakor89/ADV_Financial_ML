{
 "cells": [
  {
   "cell_type": "markdown",
   "id": "9b6c06de-aeca-43a0-ab94-4b9b140fa154",
   "metadata": {},
   "source": [
    "# Labeling\n",
    "\n",
    "### Loading Libraries"
   ]
  },
  {
   "cell_type": "code",
   "execution_count": 1,
   "id": "f2fbfefe-65ea-4bc6-8362-1a8ce9028bc7",
   "metadata": {},
   "outputs": [],
   "source": [
    "# Randomness\n",
    "import random\n",
    "\n",
    "\n",
    "# Numerical Computing\n",
    "import numpy as np\n",
    "\n",
    "# Data Manipulation\n",
    "import pandas as pd\n",
    "from pandas import Timestamp\n",
    "\n",
    "# Data Visualization\n",
    "import seaborn as sns\n",
    "import matplotlib.pyplot as plt\n",
    "\n",
    "import plotly.graph_objects as go\n",
    "import plotly.io as pio\n",
    "%matplotlib inline\n",
    "\n",
    "# Date & Time\n",
    "from datetime import datetime, timedelta\n",
    "\n",
    "# Typing\n",
    "from typing import Tuple, List, Dict, Union, Optional, Any, Generator\n",
    "\n",
    "# Scikit-Learn\n",
    "from sklearn.preprocessing import MinMaxScaler\n",
    "from sklearn.ensemble import RandomForestClassifier\n",
    "from sklearn.model_selection import train_test_split\n",
    "from sklearn.metrics import accuracy_score, precision_score, recall_score, plot_roc_curve\n",
    "\n",
    "# Scientific Statistical Python\n",
    "from scipy.stats import jarque_bera"
   ]
  },
  {
   "cell_type": "code",
   "execution_count": 4,
   "id": "c9b235df-3a86-4b82-a624-2b407a65c0ac",
   "metadata": {},
   "outputs": [],
   "source": [
    "import nbimporter"
   ]
  },
  {
   "cell_type": "markdown",
   "id": "121498af-80db-4cf0-939a-fdeb8d06ac55",
   "metadata": {},
   "source": [
    "### Daily Volatility Estimates"
   ]
  },
  {
   "cell_type": "code",
   "execution_count": 5,
   "id": "70645a6c-5894-4d47-9835-a78e37308746",
   "metadata": {},
   "outputs": [],
   "source": [
    "def get_daily_vol(close: pd.Series, span0: int = 20) -> pd.Series:\n",
    "    df0 = close.index.searchsorted(close.index - pd.Timedelta(days=1))\n",
    "    df0 = df0[df0 > 0]\n",
    "    df0 = pd.Series(close.index[df0 - 1], index=close.index[close.shape[0] - df0.shape[0]:])\n",
    "    df0 = close.loc[df0.index] / close.loc[df0.values].values - 1    # daily returns\n",
    "    df0 = df0.ewm(span=span0).std()\n",
    "    return df0"
   ]
  },
  {
   "cell_type": "markdown",
   "id": "562c3455-1c4c-4f3e-8053-bbcdb6e04570",
   "metadata": {},
   "source": [
    "### Triple-Barrier Labeling Method"
   ]
  },
  {
   "cell_type": "code",
   "execution_count": 6,
   "id": "b4ea49fb-5b9b-4f3e-b211-2f9bc1c3d60f",
   "metadata": {},
   "outputs": [],
   "source": [
    "# Type Hints for Functions Parameters\n",
    "def apply_tripple_barrier(close: pd.Series, events: pd.DataFrame, pt_sl: List, molecule: np.ndarray) -> pd.DataFrame:\n",
    "    events_ = events.loc[molecule]\n",
    "    out = events_[['t1']].copy(deep=True)\n",
    "    if pt_sl[0] > 0:\n",
    "        pt = pt_sl[0] * events_['trgt']\n",
    "    else:\n",
    "        pt = pd.Series(data=[np.nan] * len(events.index), index=events.index)    # NaNs\n",
    "    if pt_sl[1] > 0:\n",
    "        sl = -pt_sl[1] * events_['trgt']\n",
    "    else:\n",
    "        sl = pd.Series(data=[np.nan] * len(events.index), index=events.index)    # NaNs\n",
    "    \n",
    "    for loc, t1 in events_['t1'].fillna(close.index[-1]).iteritems():\n",
    "        df0 = close[loc: t1]                                       # path prices\n",
    "        df0 = (df0 / close[loc] - 1) * events_.at[loc, 'side']     # path returns\n",
    "        out.loc[loc, 'sl'] = df0[df0 < sl[loc]].index.min()        # earlisest stop loss\n",
    "        out.loc[loc, 'pt'] = df0[df0 > pt[loc]].index.min()        # earlisest profit taking\n",
    "    return out"
   ]
  },
  {
   "cell_type": "code",
   "execution_count": null,
   "id": "264d1e02-08e5-40c5-8fb9-3b144916c3b2",
   "metadata": {},
   "outputs": [],
   "source": []
  },
  {
   "cell_type": "code",
   "execution_count": null,
   "id": "884f0fc5-cf0e-4516-966a-6d5e313fe988",
   "metadata": {},
   "outputs": [],
   "source": []
  },
  {
   "cell_type": "code",
   "execution_count": null,
   "id": "3fab6145-9e32-47e0-b474-81b825187a5f",
   "metadata": {},
   "outputs": [],
   "source": []
  },
  {
   "cell_type": "code",
   "execution_count": null,
   "id": "3af78c7d-91b6-48fa-bf96-05312253879f",
   "metadata": {},
   "outputs": [],
   "source": []
  },
  {
   "cell_type": "code",
   "execution_count": null,
   "id": "ce0f5a7c-89f5-4817-9658-a13d03e24c5c",
   "metadata": {},
   "outputs": [],
   "source": []
  },
  {
   "cell_type": "code",
   "execution_count": null,
   "id": "8364f76f-55b1-49cf-a17f-91545027be80",
   "metadata": {},
   "outputs": [],
   "source": []
  },
  {
   "cell_type": "code",
   "execution_count": null,
   "id": "2c731902-2740-4c32-bae5-f9729e5a5c94",
   "metadata": {},
   "outputs": [],
   "source": []
  },
  {
   "cell_type": "code",
   "execution_count": null,
   "id": "d6dd2ccd-f0e5-4ce9-bc5e-86c0b160dda8",
   "metadata": {},
   "outputs": [],
   "source": []
  },
  {
   "cell_type": "code",
   "execution_count": null,
   "id": "caf422b1-b16b-494f-8cc4-46876e1e31e7",
   "metadata": {},
   "outputs": [],
   "source": []
  },
  {
   "cell_type": "code",
   "execution_count": null,
   "id": "9cfd8def-622e-4ba7-8c3e-e4fd058d1b8a",
   "metadata": {},
   "outputs": [],
   "source": []
  }
 ],
 "metadata": {
  "kernelspec": {
   "display_name": "Python 3 (ipykernel)",
   "language": "python",
   "name": "python3"
  },
  "language_info": {
   "codemirror_mode": {
    "name": "ipython",
    "version": 3
   },
   "file_extension": ".py",
   "mimetype": "text/x-python",
   "name": "python",
   "nbconvert_exporter": "python",
   "pygments_lexer": "ipython3",
   "version": "3.11.10"
  }
 },
 "nbformat": 4,
 "nbformat_minor": 5
}
