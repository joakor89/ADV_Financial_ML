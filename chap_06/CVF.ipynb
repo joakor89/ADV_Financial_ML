{
 "cells": [
  {
   "cell_type": "markdown",
   "id": "9e58fe9f-f1cb-4ad8-875e-ec632bd9410d",
   "metadata": {},
   "source": [
    "# Cross-Validation in Finance\n",
    "\n",
    "### Loading Libraries"
   ]
  },
  {
   "cell_type": "code",
   "execution_count": 8,
   "id": "208f323f-fd66-4d33-9d8e-9feec103f51f",
   "metadata": {},
   "outputs": [],
   "source": [
    "# Randomness\n",
    "import random\n",
    "\n",
    "# Numerical Computing\n",
    "import numpy as np\n",
    "\n",
    "# Data Manipulation\n",
    "import pandas as pd\n",
    "from pandas import Timestamp\n",
    "\n",
    "# Data Visualization\n",
    "import seaborn as sns\n",
    "import matplotlib.pyplot as plt\n",
    "\n",
    "import plotly.graph_objects as go\n",
    "import plotly.io as pio\n",
    "%matplotlib inline\n",
    "\n",
    "# Date & Time\n",
    "from datetime import datetime, timedelta\n",
    "\n",
    "# Typing\n",
    "from typing import Tuple, List, Dict, Union, Optional, Any, Generator\n",
    "\n",
    "# Scikit-Learn\n",
    "from sklearn.preprocessing import MinMaxScaler\n",
    "from sklearn.ensemble import RandomForestClassifier\n",
    "from sklearn.model_selection import train_test_split\n",
    "from sklearn.model_selection import KFold as _BaseKFold\n",
    "from sklearn.metrics import accuracy_score, precision_score, recall_score, plot_roc_curve\n",
    "\n",
    "# Scientific Statistical Python\n",
    "from scipy.stats import jarque_bera"
   ]
  },
  {
   "cell_type": "markdown",
   "id": "c506aa33-1e28-41f6-82e2-3483085bdb28",
   "metadata": {},
   "source": [
    "## Why K-Fold CV Fails in Finance\n",
    "\n",
    "### A Solution: Purged K-Fold CV\n",
    "#### Purging The Training Set"
   ]
  },
  {
   "cell_type": "code",
   "execution_count": 9,
   "id": "b950d52c-996d-4298-acbf-39b53b40c896",
   "metadata": {},
   "outputs": [],
   "source": [
    "def get_train_times(t1: pd.Series, testTimes: pd.Series) -> pd.Series:\n",
    "    train = t1.copy(deep=True)\n",
    "    for start, end in testTimes.iteritems():\n",
    "        df0 = train[(start <= train.index) & (train.index <= end)].index    # train starts within test\n",
    "        df1 = train[(start <= train) & (train <= end)].index                # train ends within test\n",
    "        df2 = train[(train.index <= start) & (end <= train)].index          # train envelops test\n",
    "        train = train.drop(df0.union(df1).union(df2))\n",
    "    return train"
   ]
  },
  {
   "cell_type": "markdown",
   "id": "31b452b7-a172-4c27-8fa8-209d212c05e8",
   "metadata": {},
   "source": [
    "### Embargo\n",
    "#### On Training Observations"
   ]
  },
  {
   "cell_type": "code",
   "execution_count": 10,
   "id": "c6e98c4e-643b-4550-b57a-ae9d5faf9d2f",
   "metadata": {},
   "outputs": [],
   "source": [
    "def get_embargo_times(times: np.ndarray, pctEmbargo: float = 0.0) -> pd.Series:\n",
    "    step = int(times.shape[0] * pctEmbargo)\n",
    "    if step == 0:\n",
    "        mbrg = pd.Series(times, index=times)\n",
    "    else:\n",
    "        mbrg = pd.Series(times[step:], index=times[:-step])\n",
    "        mbrg = mbrg.append(pd.Series(times[-1], index=times[-step:]))\n",
    "    return mbrg"
   ]
  },
  {
   "cell_type": "markdown",
   "id": "99a46082-27a9-44ed-8406-d5a48617972b",
   "metadata": {},
   "source": [
    "### The Purged K-Fold Class\n",
    "#### Cross-Validation Class When Obsertations Overlap"
   ]
  },
  {
   "cell_type": "code",
   "execution_count": 7,
   "id": "36f52e29-db9d-43fb-b0b6-594e130b8221",
   "metadata": {},
   "outputs": [
    {
     "ename": "NameError",
     "evalue": "name '_BaseKFold' is not defined",
     "output_type": "error",
     "traceback": [
      "\u001b[0;31m---------------------------------------------------------------------------\u001b[0m",
      "\u001b[0;31mNameError\u001b[0m                                 Traceback (most recent call last)",
      "Cell \u001b[0;32mIn[7], line 1\u001b[0m\n\u001b[0;32m----> 1\u001b[0m \u001b[38;5;28;01mclass\u001b[39;00m \u001b[38;5;21;01mPurgedKFold\u001b[39;00m(_BaseKFold):\n\u001b[1;32m      2\u001b[0m     \u001b[38;5;28;01mdef\u001b[39;00m \u001b[38;5;21m__init__\u001b[39m(\u001b[38;5;28mself\u001b[39m, n_splits: \u001b[38;5;28mint\u001b[39m \u001b[38;5;241m=\u001b[39m \u001b[38;5;241m3\u001b[39m, t1: Optional[pd\u001b[38;5;241m.\u001b[39mSeries] \u001b[38;5;241m=\u001b[39m \u001b[38;5;28;01mNone\u001b[39;00m, pctEmbargo: \u001b[38;5;28mfloat\u001b[39m \u001b[38;5;241m=\u001b[39m \u001b[38;5;241m0.0\u001b[39m) \u001b[38;5;241m-\u001b[39m\u001b[38;5;241m>\u001b[39m \u001b[38;5;28;01mNone\u001b[39;00m:\n\u001b[1;32m      3\u001b[0m         \u001b[38;5;28;01mif\u001b[39;00m \u001b[38;5;129;01mnot\u001b[39;00m \u001b[38;5;28misinstance\u001b[39m(t1, pd\u001b[38;5;241m.\u001b[39mSeries):\n",
      "\u001b[0;31mNameError\u001b[0m: name '_BaseKFold' is not defined"
     ]
    }
   ],
   "source": [
    "class PurgedKFold(_BaseKFold):\n",
    "    def __init__(self, n_splits: int = 3, t1: Optional[pd.Series] = None, pctEmbargo: float = 0.0) -> None:\n",
    "        if not isinstance(t1, pd.Series):\n",
    "            raise ValueError('Label Through Dates must be a pd.Series')\n",
    "        super(PurgedKFold, self).__init__(n_splits, shuffle=False, random_state=None)\n",
    "        self.t1 = t1\n",
    "        self.pctEmbargo = pctEmbargo\n",
    "        \n",
    "    def split(self, X: pd.DataFrame, y: Optional[pd.Series] = None, groups: Optional[np.ndarray] = None\n",
    "             ) -> Generator[Tuple[np.ndarray, np.ndarray], None, None]:\n",
    "        if (X.index == self.t1.index).sum() != len(self.t1):\n",
    "            raise ValueError('X and ThruDateValues must have the same index')\n",
    "        indices = np.arange(X.shape[0])\n",
    "        mbrg = int(X.shape[0] * self.pctEmbargo)\n",
    "        test_starts = [(i[0], i[-1] + 1) for i in np.array_split(np.arange(X.shape[0]), self.n_splits)]\n",
    "        for i, j in test_starts:\n",
    "            t0 = self.t1.index[i]    # start of test set\n",
    "            test_indices = indices[i: j]\n",
    "            maxT1Idx = self.t1.index.searchsorted(self.t1[test_indices].max())\n",
    "            train_indices = self.t1.index.searchsorted(self.t1[self.t1 <= t0].index)\n",
    "            if maxT1Idx < X.shape[0]:    # right train (with embargo)\n",
    "                train_indices = np.concatenate((train_indices, indices[maxT1Idx + mbrg:]))\n",
    "            yield train_indices, test_indices"
   ]
  },
  {
   "cell_type": "code",
   "execution_count": null,
   "id": "d396f20f-b480-4081-ad2a-95f6767a5a50",
   "metadata": {},
   "outputs": [],
   "source": []
  }
 ],
 "metadata": {
  "kernelspec": {
   "display_name": "Python 3 (ipykernel)",
   "language": "python",
   "name": "python3"
  },
  "language_info": {
   "codemirror_mode": {
    "name": "ipython",
    "version": 3
   },
   "file_extension": ".py",
   "mimetype": "text/x-python",
   "name": "python",
   "nbconvert_exporter": "python",
   "pygments_lexer": "ipython3",
   "version": "3.11.10"
  }
 },
 "nbformat": 4,
 "nbformat_minor": 5
}
