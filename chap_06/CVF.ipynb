{
 "cells": [
  {
   "cell_type": "markdown",
   "id": "9e58fe9f-f1cb-4ad8-875e-ec632bd9410d",
   "metadata": {},
   "source": [
    "# Cross-Validation in Finance\n",
    "\n",
    "### Loading Libraries"
   ]
  },
  {
   "cell_type": "code",
   "execution_count": 8,
   "id": "208f323f-fd66-4d33-9d8e-9feec103f51f",
   "metadata": {},
   "outputs": [],
   "source": [
    "# Randomness\n",
    "import random\n",
    "\n",
    "# Numerical Computing\n",
    "import numpy as np\n",
    "\n",
    "# Data Manipulation\n",
    "import pandas as pd\n",
    "from pandas import Timestamp\n",
    "\n",
    "# Data Visualization\n",
    "import seaborn as sns\n",
    "import matplotlib.pyplot as plt\n",
    "\n",
    "import plotly.graph_objects as go\n",
    "import plotly.io as pio\n",
    "%matplotlib inline\n",
    "\n",
    "# Date & Time\n",
    "from datetime import datetime, timedelta\n",
    "\n",
    "# Typing\n",
    "from typing import Tuple, List, Dict, Union, Optional, Any, Generator\n",
    "\n",
    "# Scikit-Learn\n",
    "from sklearn.preprocessing import MinMaxScaler\n",
    "from sklearn.ensemble import RandomForestClassifier\n",
    "from sklearn.model_selection import train_test_split\n",
    "from sklearn.model_selection import KFold as _BaseKFold\n",
    "from sklearn.metrics import accuracy_score, precision_score, recall_score, plot_roc_curve\n",
    "\n",
    "# Scientific Statistical Python\n",
    "from scipy.stats import jarque_bera"
   ]
  },
  {
   "cell_type": "markdown",
   "id": "c506aa33-1e28-41f6-82e2-3483085bdb28",
   "metadata": {},
   "source": [
    "## Why K-Fold CV Fails in Finance\n",
    "\n",
    "### A Solution: Purged K-Fold CV\n",
    "#### Purging The Training Set"
   ]
  },
  {
   "cell_type": "code",
   "execution_count": 9,
   "id": "b950d52c-996d-4298-acbf-39b53b40c896",
   "metadata": {},
   "outputs": [],
   "source": [
    "def get_train_times(t1: pd.Series, testTimes: pd.Series) -> pd.Series:\n",
    "    train = t1.copy(deep=True)\n",
    "    for start, end in testTimes.iteritems():\n",
    "        df0 = train[(start <= train.index) & (train.index <= end)].index    # train starts within test\n",
    "        df1 = train[(start <= train) & (train <= end)].index                # train ends within test\n",
    "        df2 = train[(train.index <= start) & (end <= train)].index          # train envelops test\n",
    "        train = train.drop(df0.union(df1).union(df2))\n",
    "    return train"
   ]
  },
  {
   "cell_type": "markdown",
   "id": "31b452b7-a172-4c27-8fa8-209d212c05e8",
   "metadata": {},
   "source": [
    "### Embargo\n",
    "#### On Training Observations"
   ]
  },
  {
   "cell_type": "code",
   "execution_count": 10,
   "id": "c6e98c4e-643b-4550-b57a-ae9d5faf9d2f",
   "metadata": {},
   "outputs": [],
   "source": [
    "def get_embargo_times(times: np.ndarray, pctEmbargo: float = 0.0) -> pd.Series:\n",
    "    step = int(times.shape[0] * pctEmbargo)\n",
    "    if step == 0:\n",
    "        mbrg = pd.Series(times, index=times)\n",
    "    else:\n",
    "        mbrg = pd.Series(times[step:], index=times[:-step])\n",
    "        mbrg = mbrg.append(pd.Series(times[-1], index=times[-step:]))\n",
    "    return mbrg"
   ]
  },
  {
   "cell_type": "markdown",
   "id": "99a46082-27a9-44ed-8406-d5a48617972b",
   "metadata": {},
   "source": [
    "### The Purged K-Fold Class\n",
    "#### Cross-Validation Class When Obsertations Overlap"
   ]
  },
  {
   "cell_type": "code",
   "execution_count": 11,
   "id": "36f52e29-db9d-43fb-b0b6-594e130b8221",
   "metadata": {},
   "outputs": [],
   "source": [
    "class PurgedKFold(_BaseKFold):\n",
    "    def __init__(self, n_splits: int = 3, t1: Optional[pd.Series] = None, pctEmbargo: float = 0.0) -> None:\n",
    "        if not isinstance(t1, pd.Series):\n",
    "            raise ValueError('Label Through Dates must be a pd.Series')\n",
    "        super(PurgedKFold, self).__init__(n_splits, shuffle=False, random_state=None)\n",
    "        self.t1 = t1\n",
    "        self.pctEmbargo = pctEmbargo\n",
    "        \n",
    "    def split(self, X: pd.DataFrame, y: Optional[pd.Series] = None, groups: Optional[np.ndarray] = None\n",
    "             ) -> Generator[Tuple[np.ndarray, np.ndarray], None, None]:\n",
    "        if (X.index == self.t1.index).sum() != len(self.t1):\n",
    "            raise ValueError('X and ThruDateValues must have the same index')\n",
    "        indices = np.arange(X.shape[0])\n",
    "        mbrg = int(X.shape[0] * self.pctEmbargo)\n",
    "        test_starts = [(i[0], i[-1] + 1) for i in np.array_split(np.arange(X.shape[0]), self.n_splits)]\n",
    "        for i, j in test_starts:\n",
    "            t0 = self.t1.index[i]    # start of test set\n",
    "            test_indices = indices[i: j]\n",
    "            maxT1Idx = self.t1.index.searchsorted(self.t1[test_indices].max())\n",
    "            train_indices = self.t1.index.searchsorted(self.t1[self.t1 <= t0].index)\n",
    "            if maxT1Idx < X.shape[0]:    # right train (with embargo)\n",
    "                train_indices = np.concatenate((train_indices, indices[maxT1Idx + mbrg:]))\n",
    "            yield train_indices, test_indices"
   ]
  },
  {
   "cell_type": "markdown",
   "id": "98352001-ed70-470f-a049-8753cc4de5bc",
   "metadata": {},
   "source": [
    "### Bugs Scikit-Learn's Cross-Validation\n",
    "#### Using `PurgedKFold` Class"
   ]
  },
  {
   "cell_type": "code",
   "execution_count": 12,
   "id": "d9eacb5e-261e-4e37-919e-0307b16e0c18",
   "metadata": {},
   "outputs": [],
   "source": [
    "def cvScore(\n",
    "    clf: Any, X: pd.DataFrame, y: pd.Series, sample_weight: pd.Series, scoring: str ='neg_log_loss',\n",
    "    t1: Optional[pd.Series] = None, cv: Optional[int] = None,\n",
    "    cvGen: Optional[PurgedKFold] = None, pctEmbargo: Optional[float] = None) -> np.ndarray:\n",
    "    \n",
    "    if scoring not in ['neg_log_loss', 'accuracy']:\n",
    "        raise Exception('wrong scoring method')\n",
    "    if cvGen is None:\n",
    "        cvGen = PurgedKFold(n_splits=cv, t1=t1, pctEmbargo=pctEmbargo)    # purged\n",
    "    score = []\n",
    "    for train, test in cvGen.split(X=X):\n",
    "        fit = clf.fit(X=X.iloc[train, :], y=y.iloc[train], sample_weight=sample_weight.iloc[train].values)\n",
    "        if scoring == 'neg_log_loss':\n",
    "            prob = fit.predict_proba(X.iloc[test, :])\n",
    "            score_ = -log_loss(y.iloc[test], prob, sample_weight=sample_weight.iloc[test].values, labels=clf.classes_)\n",
    "        else:\n",
    "            pred = fit.predict(X.iloc[test, :])\n",
    "            score_ = accuracy_score(y.iloc[test], pred, sample_weight=sample_weight.iloc[test].values)\n",
    "        score.append(score_)\n",
    "    return np.array(score)"
   ]
  },
  {
   "cell_type": "code",
   "execution_count": null,
   "id": "40722f3d-4dc4-4588-b1cc-163679d37ff1",
   "metadata": {},
   "outputs": [],
   "source": []
  }
 ],
 "metadata": {
  "kernelspec": {
   "display_name": "Python 3 (ipykernel)",
   "language": "python",
   "name": "python3"
  },
  "language_info": {
   "codemirror_mode": {
    "name": "ipython",
    "version": 3
   },
   "file_extension": ".py",
   "mimetype": "text/x-python",
   "name": "python",
   "nbconvert_exporter": "python",
   "pygments_lexer": "ipython3",
   "version": "3.11.10"
  }
 },
 "nbformat": 4,
 "nbformat_minor": 5
}
