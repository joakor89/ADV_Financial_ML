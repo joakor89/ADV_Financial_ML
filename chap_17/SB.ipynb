{
 "cells": [
  {
   "cell_type": "markdown",
   "id": "0f008126-9e36-46d2-9355-f9ab620be6fb",
   "metadata": {},
   "source": [
    "# Structural Breaks\n",
    "\n",
    "### Loading Libraries"
   ]
  },
  {
   "cell_type": "code",
   "execution_count": 1,
   "id": "0f9a414c-c4bf-4c36-bab3-0bc6e69cc905",
   "metadata": {},
   "outputs": [],
   "source": [
    "# Randomness\n",
    "import random\n",
    "\n",
    "# Numerical Computing\n",
    "import numpy as np\n",
    "\n",
    "# Data Manipulation\n",
    "import pandas as pd\n",
    "from pandas import Timestamp\n",
    "\n",
    "# Data Visualization\n",
    "import seaborn as sns\n",
    "import matplotlib.pyplot as plt\n",
    "\n",
    "import plotly.graph_objects as go\n",
    "import plotly.io as pio\n",
    "%matplotlib inline\n",
    "\n",
    "# Date & Time\n",
    "from datetime import datetime, timedelta\n",
    "\n",
    "# Typing\n",
    "from typing import Tuple, List, Dict, Union, Optional, Any, Generator\n",
    "\n",
    "# Scikit-Learn\n",
    "from sklearn.pipeline import Pipeline\n",
    "from sklearn.metrics import RocCurveDisplay\n",
    "from sklearn.preprocessing import MinMaxScaler\n",
    "from sklearn.tree import DecisionTreeClassifier\n",
    "from sklearn.ensemble import BaggingClassifier\n",
    "from sklearn.datasets import make_classification\n",
    "from sklearn.ensemble import RandomForestClassifier\n",
    "from sklearn.model_selection import train_test_split\n",
    "from sklearn.model_selection._split import _BaseKFold\n",
    "from sklearn.model_selection import StratifiedKFold, GridSearchCV, RandomizedSearchCV\n",
    "from sklearn.metrics import accuracy_score, precision_score, recall_score, log_loss\n",
    "\n",
    "# Scientific Statistical Python\n",
    "import scipy.cluster.hierarchy as sch\n",
    "from scipy.stats import jarque_bera\n",
    "from scipy.stats import rv_continuous, kstest, norm"
   ]
  },
  {
   "cell_type": "markdown",
   "id": "34e7ac41-1320-409c-9ba4-24156b2369b5",
   "metadata": {},
   "source": [
    "#### Actual Regression"
   ]
  },
  {
   "cell_type": "code",
   "execution_count": 2,
   "id": "392b2898-115f-4245-9382-6e1412a80350",
   "metadata": {},
   "outputs": [],
   "source": [
    "def get_betas(y: np.ndarray, x: np.ndarray) -> Tuple[float, float]:\n",
    "    xy = np.dot(x.T, y)\n",
    "    xx = np.dot(x.T, x)\n",
    "    xxinv = np.linalg.inv(xx)\n",
    "    bMean = np.dot(xxinv, xy)\n",
    "    err = y - np.dot(x, bMean)\n",
    "    bVar = np.dot(err.T, err) / (x.shape[0] - x.shape[1]) * xxinv\n",
    "    return bMean, bVar"
   ]
  },
  {
   "cell_type": "code",
   "execution_count": null,
   "id": "53f825cb-17a6-43e7-bf63-d71fc38d4e5c",
   "metadata": {},
   "outputs": [],
   "source": []
  }
 ],
 "metadata": {
  "kernelspec": {
   "display_name": "Python 3 (ipykernel)",
   "language": "python",
   "name": "python3"
  },
  "language_info": {
   "codemirror_mode": {
    "name": "ipython",
    "version": 3
   },
   "file_extension": ".py",
   "mimetype": "text/x-python",
   "name": "python",
   "nbconvert_exporter": "python",
   "pygments_lexer": "ipython3",
   "version": "3.11.10"
  }
 },
 "nbformat": 4,
 "nbformat_minor": 5
}
