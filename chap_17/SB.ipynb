{
 "cells": [
  {
   "cell_type": "markdown",
   "id": "0f008126-9e36-46d2-9355-f9ab620be6fb",
   "metadata": {},
   "source": [
    "# Structural Breaks\n",
    "\n",
    "### Loading Libraries"
   ]
  },
  {
   "cell_type": "code",
   "execution_count": 1,
   "id": "0f9a414c-c4bf-4c36-bab3-0bc6e69cc905",
   "metadata": {},
   "outputs": [],
   "source": [
    "# Randomness\n",
    "import random\n",
    "\n",
    "# Numerical Computing\n",
    "import numpy as np\n",
    "\n",
    "# Data Manipulation\n",
    "import pandas as pd\n",
    "from pandas import Timestamp\n",
    "\n",
    "# Data Visualization\n",
    "import seaborn as sns\n",
    "import matplotlib.pyplot as plt\n",
    "\n",
    "import plotly.graph_objects as go\n",
    "import plotly.io as pio\n",
    "%matplotlib inline\n",
    "\n",
    "# Date & Time\n",
    "from datetime import datetime, timedelta\n",
    "\n",
    "# Typing\n",
    "from typing import Tuple, List, Dict, Union, Optional, Any, Generator\n",
    "\n",
    "# Scikit-Learn\n",
    "from sklearn.pipeline import Pipeline\n",
    "from sklearn.metrics import RocCurveDisplay\n",
    "from sklearn.preprocessing import MinMaxScaler\n",
    "from sklearn.tree import DecisionTreeClassifier\n",
    "from sklearn.ensemble import BaggingClassifier\n",
    "from sklearn.datasets import make_classification\n",
    "from sklearn.ensemble import RandomForestClassifier\n",
    "from sklearn.model_selection import train_test_split\n",
    "from sklearn.model_selection._split import _BaseKFold\n",
    "from sklearn.model_selection import StratifiedKFold, GridSearchCV, RandomizedSearchCV\n",
    "from sklearn.metrics import accuracy_score, precision_score, recall_score, log_loss\n",
    "\n",
    "# Scientific Statistical Python\n",
    "import scipy.cluster.hierarchy as sch\n",
    "from scipy.stats import jarque_bera\n",
    "from scipy.stats import rv_continuous, kstest, norm"
   ]
  },
  {
   "cell_type": "markdown",
   "id": "34e7ac41-1320-409c-9ba4-24156b2369b5",
   "metadata": {},
   "source": [
    "#### Actual Regression"
   ]
  },
  {
   "cell_type": "code",
   "execution_count": 2,
   "id": "392b2898-115f-4245-9382-6e1412a80350",
   "metadata": {},
   "outputs": [],
   "source": [
    "def get_betas(y: np.ndarray, x: np.ndarray) -> Tuple[float, float]:\n",
    "    xy = np.dot(x.T, y)\n",
    "    xx = np.dot(x.T, x)\n",
    "    xxinv = np.linalg.inv(xx)\n",
    "    bMean = np.dot(xxinv, xy)\n",
    "    err = y - np.dot(x, bMean)\n",
    "    bVar = np.dot(err.T, err) / (x.shape[0] - x.shape[1]) * xxinv\n",
    "    return bMean, bVar"
   ]
  },
  {
   "cell_type": "markdown",
   "id": "43a651e4-d076-426b-bdd6-01e0b12ea1d4",
   "metadata": {},
   "source": [
    "#### Applying Lags"
   ]
  },
  {
   "cell_type": "code",
   "execution_count": 3,
   "id": "d9e4ec4b-a09e-48fa-b3d8-08b7503c6567",
   "metadata": {},
   "outputs": [],
   "source": [
    "def lag_DF(df0: pd.DataFrame, lags: Union[int, list]) -> pd.DataFrame:\n",
    "    df1 = pd.DataFrame()\n",
    "    if isinstance(lags, int):\n",
    "        lags = range(lags + 1)\n",
    "    else:\n",
    "        lags = [int(lag) for lag in lags]\n",
    "    for lag in lags:\n",
    "        df_ = df0.shift(lag).copy(deep=True)\n",
    "        df_.columns = [str(i) + '_' + str(lag) for i in df_.columns]\n",
    "        df1 = df1.join(df_, how='outer')\n",
    "    return df1"
   ]
  },
  {
   "cell_type": "markdown",
   "id": "ff12e246-2fe1-4483-97a9-1f0c60c290ac",
   "metadata": {},
   "source": [
    "#### Recursive Text"
   ]
  },
  {
   "cell_type": "code",
   "execution_count": 4,
   "id": "29b93d67-e43d-40f0-b275-19e1029924ab",
   "metadata": {},
   "outputs": [],
   "source": [
    "def get_YX(series: pd.Series, constant: str, lags: Union[int, list]) -> Tuple[np.ndarray, np.ndarray]:\n",
    "    series_ = series.diff().dropna()\n",
    "    x = lag_DF(series_, lags).dropna()\n",
    "    x.iloc[:, 0] = series.values[-x.shape[0] - 1: -1, 0]    # lagged level\n",
    "    y = series_.iloc[-x.shape[0]:].values\n",
    "    if constant != 'nc':\n",
    "        x = np.append(x, np.ones((x.shape[0], 1)), axis=1)\n",
    "        if constant[:2] == 'ct':\n",
    "            trend = np.arange(x.shape[0]).reshape(-1, 1)\n",
    "            x = np.append(x, trend, axis=1)\n",
    "        if constant == 'ctt':\n",
    "            x = np.append(x, trend ** 2, axis=1)\n",
    "    return y, x"
   ]
  },
  {
   "cell_type": "code",
   "execution_count": null,
   "id": "6da4239a-b7af-48d0-9b86-8b42d5ecbecc",
   "metadata": {},
   "outputs": [],
   "source": []
  }
 ],
 "metadata": {
  "kernelspec": {
   "display_name": "Python 3 (ipykernel)",
   "language": "python",
   "name": "python3"
  },
  "language_info": {
   "codemirror_mode": {
    "name": "ipython",
    "version": 3
   },
   "file_extension": ".py",
   "mimetype": "text/x-python",
   "name": "python",
   "nbconvert_exporter": "python",
   "pygments_lexer": "ipython3",
   "version": "3.11.10"
  }
 },
 "nbformat": 4,
 "nbformat_minor": 5
}
