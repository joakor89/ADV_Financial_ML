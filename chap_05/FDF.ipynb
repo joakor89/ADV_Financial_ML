{
 "cells": [
  {
   "cell_type": "markdown",
   "id": "1132ea0e-1e60-47b8-9f87-6c5213424bfe",
   "metadata": {},
   "source": [
    "# Fractionally Differentiated Features\n",
    "\n",
    "### Loading Libraries"
   ]
  },
  {
   "cell_type": "code",
   "execution_count": 1,
   "id": "bfb6b455-018c-4c40-8b92-d6cc4c9b52ad",
   "metadata": {},
   "outputs": [],
   "source": [
    "# Randomness\n",
    "import random\n",
    "\n",
    "# Numerical Computing\n",
    "import numpy as np\n",
    "\n",
    "# Data Manipulation\n",
    "import pandas as pd\n",
    "from pandas import Timestamp\n",
    "\n",
    "# Data Visualization\n",
    "import seaborn as sns\n",
    "import matplotlib.pyplot as plt\n",
    "\n",
    "import plotly.graph_objects as go\n",
    "import plotly.io as pio\n",
    "%matplotlib inline\n",
    "\n",
    "# Date & Time\n",
    "from datetime import datetime, timedelta\n",
    "\n",
    "# Typing\n",
    "from typing import Tuple, List, Dict, Union, Optional, Any, Generator\n",
    "\n",
    "# Scikit-Learn\n",
    "from sklearn.preprocessing import MinMaxScaler\n",
    "from sklearn.ensemble import RandomForestClassifier\n",
    "from sklearn.model_selection import train_test_split\n",
    "from sklearn.metrics import accuracy_score, precision_score, recall_score, plot_roc_curve\n",
    "\n",
    "# Scientific Statistical Python\n",
    "from scipy.stats import jarque_bera"
   ]
  },
  {
   "cell_type": "markdown",
   "id": "edc88232-5f4c-44bc-acc6-0423a138d992",
   "metadata": {},
   "source": [
    "## The Method\n",
    "\n",
    "### Iterative Estimation\n",
    "#### `Weighting Function`"
   ]
  },
  {
   "cell_type": "code",
   "execution_count": 3,
   "id": "77b738d7-ba9b-4285-9690-5d7c691a65f9",
   "metadata": {},
   "outputs": [],
   "source": [
    "def get_weights(d: float, size: int) -> np.ndarray:\n",
    "    '''\n",
    "    Computing the weights for differentiating the series\n",
    "    \n",
    "        Parameters:\n",
    "            d (float): differentiating factor\n",
    "            size (int): length of weights array\n",
    "            \n",
    "        Returns:\n",
    "            w (np.ndarray): array contatining weights\n",
    "    '''\n",
    "    w = [1.0]\n",
    "    for k in range(1, size):\n",
    "        w_ = -w[-1] / k * (d - k + 1)\n",
    "        w.append(w_)\n",
    "    w = np.array(w[::-1]).reshape(-1, 1)\n",
    "    return w\n",
    "\n",
    "\n",
    "def plot_weights(dRange: list, nPlots: int, size: int) -> None:\n",
    "    w = pd.DataFrame()\n",
    "    for d in np.linspace(dRange[0], dRange[1], nPlots):\n",
    "        w_ = get_weights(d, size)\n",
    "        w_ = pd.DataFrame(w_, index=range(w_.shape[0])[::-1], columns=[d])\n",
    "        w = w.join(w_, how='outer')\n",
    "    fig, ax = plt.subplots(figsize=(11, 7))\n",
    "    ax.plot(w)\n",
    "    ax.set_xlabel('$k$')\n",
    "    ax.set_ylabel('$w_k$')\n",
    "    ax.legend(np.round(np.linspace(dRange[0], dRange[1], nPlots), 2), loc='lower right')\n",
    "    plt.show()"
   ]
  },
  {
   "cell_type": "code",
   "execution_count": null,
   "id": "4f61ea32-162e-42e0-b059-b2f549610c78",
   "metadata": {},
   "outputs": [],
   "source": [
    "## Implementation\n",
    "\n",
    "### Exanding Window\n",
    "#### ``"
   ]
  }
 ],
 "metadata": {
  "kernelspec": {
   "display_name": "Python 3 (ipykernel)",
   "language": "python",
   "name": "python3"
  },
  "language_info": {
   "codemirror_mode": {
    "name": "ipython",
    "version": 3
   },
   "file_extension": ".py",
   "mimetype": "text/x-python",
   "name": "python",
   "nbconvert_exporter": "python",
   "pygments_lexer": "ipython3",
   "version": "3.11.10"
  }
 },
 "nbformat": 4,
 "nbformat_minor": 5
}
