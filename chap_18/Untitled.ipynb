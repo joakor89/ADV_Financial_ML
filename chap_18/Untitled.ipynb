{
 "cells": [
  {
   "cell_type": "markdown",
   "id": "2f7c0728-015b-4135-8bae-cbce022afb8e",
   "metadata": {},
   "source": [
    "# Entropy Features\n",
    "\n",
    "### Loading Libraries"
   ]
  },
  {
   "cell_type": "code",
   "execution_count": 1,
   "id": "dff87e82-a887-45ce-a90d-7d085574da87",
   "metadata": {},
   "outputs": [],
   "source": [
    "# Randomness\n",
    "import random\n",
    "\n",
    "# Numerical Computing\n",
    "import numpy as np\n",
    "\n",
    "# Data Manipulation\n",
    "import pandas as pd\n",
    "from pandas import Timestamp\n",
    "\n",
    "# Data Visualization\n",
    "import seaborn as sns\n",
    "import matplotlib.pyplot as plt\n",
    "\n",
    "import plotly.graph_objects as go\n",
    "import plotly.io as pio\n",
    "%matplotlib inline\n",
    "\n",
    "# Date & Time\n",
    "from datetime import datetime, timedelta\n",
    "\n",
    "# Typing\n",
    "from typing import Tuple, List, Dict, Union, Optional, Any, Generator\n",
    "\n",
    "# Scikit-Learn\n",
    "from sklearn.pipeline import Pipeline\n",
    "from sklearn.metrics import RocCurveDisplay\n",
    "from sklearn.preprocessing import MinMaxScaler\n",
    "from sklearn.tree import DecisionTreeClassifier\n",
    "from sklearn.ensemble import BaggingClassifier\n",
    "from sklearn.datasets import make_classification\n",
    "from sklearn.ensemble import RandomForestClassifier\n",
    "from sklearn.model_selection import train_test_split\n",
    "from sklearn.model_selection._split import _BaseKFold\n",
    "from sklearn.model_selection import StratifiedKFold, GridSearchCV, RandomizedSearchCV\n",
    "from sklearn.metrics import accuracy_score, precision_score, recall_score, log_loss\n",
    "\n",
    "# Scientific Statistical Python\n",
    "import scipy.cluster.hierarchy as sch\n",
    "from scipy.stats import jarque_bera\n",
    "from scipy.stats import rv_continuous, kstest, norm"
   ]
  },
  {
   "cell_type": "markdown",
   "id": "409dea39-e42c-42b4-adc9-412694e71a14",
   "metadata": {},
   "source": [
    "#### Probabilíty Mass Function"
   ]
  },
  {
   "cell_type": "code",
   "execution_count": 2,
   "id": "2ccb0356-b3ca-4b50-b55c-1de1fcfcef54",
   "metadata": {},
   "outputs": [],
   "source": [
    "def pmf1(msg: Any, w: int) -> dict:\n",
    "    lib = {}\n",
    "    if not isinstance(msg, str):\n",
    "        msg = ''.join(map(str, msg))\n",
    "    for i in range(w, len(msg)):\n",
    "        msg_ = msg[i - w: i]\n",
    "        if msg_ not in lib:\n",
    "            lib[msg_] = [i - w]\n",
    "        else:\n",
    "            lib[msg_] = lib[msg_] + [i - w]\n",
    "    length = float(len(msg) - w)\n",
    "    pmf = {i: len(lib[i]) / length for i in lib}\n",
    "    return pmf"
   ]
  },
  {
   "cell_type": "markdown",
   "id": "b064ff59-7aaf-4d4b-8cf1-827ee2e3bf31",
   "metadata": {},
   "source": [
    "#### Maximun Likelihood Estimate Entropy Rate"
   ]
  },
  {
   "cell_type": "code",
   "execution_count": 3,
   "id": "3e4df1ae-76e9-4d23-86d6-906c8058bd6a",
   "metadata": {},
   "outputs": [],
   "source": [
    "def plug_in(msg: Any, w: int) -> Tuple[float, dict]:\n",
    "    pmf = pmf1(msg, w)\n",
    "    out = -sum([pmf[i] * np.log2(pmf[i]) for i in pmf]) / w\n",
    "    return out, pmf"
   ]
  },
  {
   "cell_type": "markdown",
   "id": "fe3ac178-f242-4ea8-a28e-a7bfc80d67d1",
   "metadata": {},
   "source": [
    "#### Lempev Algorithm"
   ]
  },
  {
   "cell_type": "code",
   "execution_count": 4,
   "id": "03a29607-446e-417f-bc82-2d6c61d4eb7f",
   "metadata": {},
   "outputs": [],
   "source": [
    "def lempel_ziv_lib(msg: str) -> list:\n",
    "    i, lib = 1, [msg[0]]\n",
    "    while i < len(msg):\n",
    "        for j in range(i, len(msg)):\n",
    "            msg_ = msg[i: j + 1]\n",
    "            if msg_ not in lib:\n",
    "                lib.append(msg_)\n",
    "                break\n",
    "        i = j + 1\n",
    "    return lib"
   ]
  },
  {
   "cell_type": "markdown",
   "id": "b78ec60a-5d2c-4ddb-b020-7941c93f8b93",
   "metadata": {},
   "source": [
    "#### Length Longest Match"
   ]
  },
  {
   "cell_type": "code",
   "execution_count": 5,
   "id": "abd9606c-cf89-4c0d-9eed-6870593acb4c",
   "metadata": {},
   "outputs": [],
   "source": [
    "def match_length(msg: str, i: int, n: int) -> Tuple[int, str]:\n",
    "    subS = ''\n",
    "    for l in range(n):\n",
    "        msg1 = msg[i: i + 1 + l]\n",
    "        for j in range(i - n, i):\n",
    "            msg0 = msg[j: j + 1 + l]\n",
    "            if msg1 == msg0:\n",
    "                subS = msg1\n",
    "                break\n",
    "    return len(subS) + 1, subS"
   ]
  },
  {
   "cell_type": "markdown",
   "id": "916e9808-e662-4f4c-960d-c235d06f9824",
   "metadata": {},
   "source": [
    "#### Kontoyannis LZ Estimates"
   ]
  },
  {
   "cell_type": "code",
   "execution_count": 6,
   "id": "13c7a202-6efb-4b74-9d74-9f7095767ad6",
   "metadata": {},
   "outputs": [],
   "source": [
    "def konto(msg: Any, window: Optional[int] = None) -> dict:\n",
    "    out = {'num': 0, 'sum': 0, 'subS': []}\n",
    "    if not isinstance(msg, str):\n",
    "        msg = ''.join(map(str, msg))\n",
    "    if window is None:\n",
    "        points = range(1, len(msg) // 2 + 1)\n",
    "    else:\n",
    "        window = min(window, len(msg) // 2)\n",
    "        points = range(window, len(msg) - window + 1)\n",
    "    for i in points:\n",
    "        if window is None:\n",
    "            l, msg_ = match_length(msg, i, i)\n",
    "            out['sum'] += np.log2(i + 1) / l    \n",
    "        else:\n",
    "            l, msg_ = match_length(msg, i, window)\n",
    "            out['sum'] += np.log2(window + 1) / l    \n",
    "        out['subS'].append(msg_)\n",
    "        out['num'] += 1\n",
    "    out['h'] = out['sum'] / out['num']\n",
    "    out['r'] = 1 - out['h'] / np.log2(len(msg))    \n",
    "    return out"
   ]
  },
  {
   "cell_type": "code",
   "execution_count": null,
   "id": "649fa910-5b10-4005-900c-e3ce4af0dfe8",
   "metadata": {},
   "outputs": [],
   "source": []
  }
 ],
 "metadata": {
  "kernelspec": {
   "display_name": "Python 3 (ipykernel)",
   "language": "python",
   "name": "python3"
  },
  "language_info": {
   "codemirror_mode": {
    "name": "ipython",
    "version": 3
   },
   "file_extension": ".py",
   "mimetype": "text/x-python",
   "name": "python",
   "nbconvert_exporter": "python",
   "pygments_lexer": "ipython3",
   "version": "3.11.10"
  }
 },
 "nbformat": 4,
 "nbformat_minor": 5
}
