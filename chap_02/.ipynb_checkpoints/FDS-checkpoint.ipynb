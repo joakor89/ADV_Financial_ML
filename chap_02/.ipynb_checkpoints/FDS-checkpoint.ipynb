{
 "cells": [
  {
   "cell_type": "markdown",
   "id": "2c7938f6-f153-4b6f-8436-a354151ac65e",
   "metadata": {},
   "source": [
    "# Financial Data Structures\n",
    "\n",
    "### Loading Libraries"
   ]
  },
  {
   "cell_type": "code",
   "execution_count": 4,
   "id": "b1fa252e-b3e6-4185-961e-1c5aa80ab231",
   "metadata": {},
   "outputs": [],
   "source": [
    "\n",
    "# Numerical Computing\n",
    "import numpy as np\n",
    "\n",
    "# Data Manipulation\n",
    "import pandas as pd\n",
    "\n",
    "# Data Visualization\n",
    "import seaborn as sns\n",
    "import matplotlib.pyplot as plt\n",
    "\n",
    "import plotly.graph_objects as go\n",
    "import plotly.io as pio\n",
    "%matplotlib inline\n",
    "\n",
    "# Date & Time\n",
    "from datetime import datetime, timedelta\n",
    "\n",
    "# Typing\n",
    "from typing import Tuple\n",
    "\n",
    "# Scikit-Learn\n",
    "from sklearn.preprocessing import MinMaxScaler\n",
    "\n",
    "# Scientific Statistical Python\n",
    "from scipy.stats import jarque_bera"
   ]
  },
  {
   "cell_type": "code",
   "execution_count": 5,
   "id": "32d1fa8b-80c9-4803-b5c7-0f4fd2a0b5c8",
   "metadata": {},
   "outputs": [],
   "source": [
    "pio.renderers.default = \"svg\""
   ]
  },
  {
   "cell_type": "markdown",
   "id": "bcc446da-a482-4c73-b918-9d9021ce2d09",
   "metadata": {},
   "source": [
    "## Auxilary Functions\n",
    "\n",
    "### PCA Weights from a Risk Distribution R"
   ]
  },
  {
   "cell_type": "code",
   "execution_count": 6,
   "id": "8d04250f-71a6-4787-aef1-86f25775b6d7",
   "metadata": {},
   "outputs": [],
   "source": [
    "def pcaWeights(cov: np.ndarray, riskDist: np.ndarray = None,\n",
    "               riskTarget: float = 1.) -> np.ndarray:\n",
    "    eVal, eVec = np.linalg.eigh(cov)\n",
    "    indices = eVal.argsort()[::-1]\n",
    "    eVal, eVec = eVal[indices], eVec[:, indices]    # sorting by decreasing eVal (i.e. decreasing variance)\n",
    "    if riskDist is None:\n",
    "        riskDist = np.zeros(cov.shape[0])\n",
    "        riskdist[-1] = 1.\n",
    "    loads = riskTarget * (riskDist / eVal) ** 0.5\n",
    "    weights = np.dot(eVec, np.reshape(loads, (-1, 1)))\n",
    "    return weights"
   ]
  },
  {
   "cell_type": "markdown",
   "id": "05696de5-8033-4009-a5be-936097e14135",
   "metadata": {},
   "source": [
    "### The Symmetric `CUMSUM` Filter"
   ]
  },
  {
   "cell_type": "code",
   "execution_count": 7,
   "id": "dfb78b33-32e9-4551-86bc-cfaf75c64aab",
   "metadata": {},
   "outputs": [],
   "source": [
    "# Symmetrical CUSUM Filter\n",
    "\n",
    "def getTEvents(gRaw: pd.Series, h: float) -> np.ndarray:\n",
    "    gRaw = gRaw[~gRaw.index.duplicated(keep='first')]\n",
    "    tEvents, sPos, sNeg = [], 0, 0\n",
    "    diff = gRaw.diff()\n",
    "    for i in diff.index[1:]:\n",
    "        sPos, sNeg = max(0, sPos + diff.loc[i]), min(0, sNeg + diff.loc[i])\n",
    "        if sNeg < -h:\n",
    "            sNeg = 0\n",
    "            tEvents.append(i)\n",
    "        elif sPos > h:\n",
    "            sPos = 0\n",
    "            tEvents.append(i)\n",
    "    return pd.DatetimeIndex(tEvents)"
   ]
  },
  {
   "cell_type": "code",
   "execution_count": 8,
   "id": "018631a1-e642-479d-8b27-18d110fc47a5",
   "metadata": {},
   "outputs": [],
   "source": [
    "# based on https://towardsdatascience.com/advanced-candlesticks-for-machine-learning-i-tick-bars-a8b93728b4c5\n",
    "\n",
    "def get_tick_bars(prices: np.ndarray, vols: np.ndarray,\n",
    "                  times: np.ndarray, freq: int) -> np.ndarray:\n",
    "    bars = np.zeros(shape=(len(range(freq, len(prices), freq)), 6), dtype=object)\n",
    "    ind = 0\n",
    "    for i in range(freq, len(prices), freq):\n",
    "        bars[ind][0] = pd.Timestamp(times[i - 1])          # time\n",
    "        bars[ind][1] = prices[i - freq]                    # open\n",
    "        bars[ind][2] = np.max(prices[i - freq: i])         # high\n",
    "        bars[ind][3] = np.min(prices[i - freq: i])         # low\n",
    "        bars[ind][4] = prices[i - 1]                       # close\n",
    "        bars[ind][5] = np.sum(vols[i - freq: i])           # volume\n",
    "        ind += 1\n",
    "    return bars"
   ]
  },
  {
   "cell_type": "code",
   "execution_count": 9,
   "id": "e0fea1bb-7392-45c9-b302-eef8beb014ed",
   "metadata": {},
   "outputs": [],
   "source": [
    "def get_volume_bars(prices: np.ndarray, vols: np.ndarray,\n",
    "                    times: np.ndarray, bar_vol: int) -> np.ndarray:\n",
    "    bars = np.zeros(shape=(len(prices), 6), dtype=object)\n",
    "    ind = 0\n",
    "    last_tick = 0\n",
    "    cur_volume = 0\n",
    "    for i in range(len(prices)):\n",
    "        cur_volume += vols[i]\n",
    "        if cur_volume >= bar_vol:\n",
    "            bars[ind][0] = pd.Timestamp(times[i - 1])            # time\n",
    "            bars[ind][1] = prices[last_tick]                     # open\n",
    "            bars[ind][2] = np.max(prices[last_tick: i + 1])      # high\n",
    "            bars[ind][3] = np.min(prices[last_tick: i + 1])      # low\n",
    "            bars[ind][4] = prices[i]                             # close\n",
    "            bars[ind][5] = np.sum(vols[last_tick: i + 1])        # volume\n",
    "            cur_volume = 0\n",
    "            last_tick = i + 1\n",
    "            ind += 1\n",
    "    return bars[:ind]"
   ]
  },
  {
   "cell_type": "code",
   "execution_count": 10,
   "id": "ce1477f1-6d57-4f95-b8b1-f13c7172d5c2",
   "metadata": {},
   "outputs": [],
   "source": [
    "def get_dollar_bars(prices: np.ndarray, vols: np.ndarray,\n",
    "                    times: np.ndarray, bar_sum: int) -> np.ndarray:\n",
    "    bars = np.zeros(shape=(len(prices), 6), dtype=object)\n",
    "    ind = 0\n",
    "    last_tick = 0\n",
    "    cur_sum = 0\n",
    "    for i in range(len(prices)):\n",
    "        cur_sum += vols[i] * prices[i]\n",
    "        if cur_sum >= bar_sum:\n",
    "            bars[ind][0] = pd.Timestamp(times[i - 1])            # time\n",
    "            bars[ind][1] = prices[last_tick]                     # open\n",
    "            bars[ind][2] = np.max(prices[last_tick: i + 1])      # high\n",
    "            bars[ind][3] = np.min(prices[last_tick: i + 1])      # low\n",
    "            bars[ind][4] = prices[i]                             # close\n",
    "            bars[ind][5] = np.sum(vols[last_tick: i + 1])        # volume\n",
    "            cur_sum = 0\n",
    "            last_tick = i + 1\n",
    "            ind += 1\n",
    "    return bars[:ind]"
   ]
  },
  {
   "cell_type": "code",
   "execution_count": 11,
   "id": "7f5a8d90-6323-42bc-8e10-632679a0a5ce",
   "metadata": {},
   "outputs": [],
   "source": [
    "def get_bollinger_bands(dollar_bars: np.ndarray, alpha: float) -> np.ndarray:\n",
    "    prices = dollar_bars[:, 4]    # taking close prices\n",
    "    ma = (pd.Series(prices).rolling(20, min_periods=20).mean())      # 20 bars moving average\n",
    "    sigma = pd.Series(prices).rolling(20, min_periods=20).std()\n",
    "    b_upper, b_lower = (ma + alpha * sigma), (ma - alpha * sigma)    # bollinger bounds    \n",
    "    return np.array([ma, b_upper, b_lower])"
   ]
  },
  {
   "cell_type": "code",
   "execution_count": null,
   "id": "283925de-c5e4-4885-9ff2-30c75732627e",
   "metadata": {},
   "outputs": [],
   "source": []
  }
 ],
 "metadata": {
  "kernelspec": {
   "display_name": "Python 3 (ipykernel)",
   "language": "python",
   "name": "python3"
  },
  "language_info": {
   "codemirror_mode": {
    "name": "ipython",
    "version": 3
   },
   "file_extension": ".py",
   "mimetype": "text/x-python",
   "name": "python",
   "nbconvert_exporter": "python",
   "pygments_lexer": "ipython3",
   "version": "3.11.10"
  }
 },
 "nbformat": 4,
 "nbformat_minor": 5
}
