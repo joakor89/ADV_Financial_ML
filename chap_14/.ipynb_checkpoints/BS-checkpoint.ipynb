{
 "cells": [
  {
   "cell_type": "markdown",
   "id": "1ed1092d-187f-4676-a7c7-38b6b681244f",
   "metadata": {},
   "source": [
    "# Backtest Statistics\n",
    "\n",
    "### Loading libraries"
   ]
  },
  {
   "cell_type": "code",
   "execution_count": 2,
   "id": "23bd127c-e0b9-4dbf-bd4c-8d1f0fc92938",
   "metadata": {},
   "outputs": [],
   "source": [
    "# Randomness\n",
    "import random\n",
    "\n",
    "# Numerical Computing\n",
    "import numpy as np\n",
    "\n",
    "# Data Manipulation\n",
    "import pandas as pd\n",
    "from pandas import Timestamp\n",
    "\n",
    "# Data Visualization\n",
    "import seaborn as sns\n",
    "import matplotlib.pyplot as plt\n",
    "\n",
    "import plotly.graph_objects as go\n",
    "import plotly.io as pio\n",
    "%matplotlib inline\n",
    "\n",
    "# Date & Time\n",
    "from datetime import datetime, timedelta\n",
    "\n",
    "# Typing\n",
    "from typing import Tuple, List, Dict, Union, Optional, Any, Generator\n",
    "\n",
    "# Scikit-Learn\n",
    "from sklearn.pipeline import Pipeline\n",
    "from sklearn.preprocessing import MinMaxScaler\n",
    "from sklearn.tree import DecisionTreeClassifier\n",
    "from sklearn.ensemble import BaggingClassifier\n",
    "from sklearn.datasets import make_classification\n",
    "from sklearn.ensemble import RandomForestClassifier\n",
    "from sklearn.model_selection import train_test_split\n",
    "from sklearn.model_selection._split import _BaseKFold\n",
    "from sklearn.model_selection import StratifiedKFold, GridSearchCV, RandomizedSearchCV\n",
    "from sklearn.metrics import accuracy_score, precision_score, recall_score, plot_roc_curve, log_loss\n",
    "\n",
    "# Scientific Statistical Python\n",
    "import scipy.cluster.hierarchy as sch\n",
    "from scipy.stats import jarque_bera\n",
    "from scipy.stats import rv_continuous, kstest, norm"
   ]
  },
  {
   "cell_type": "markdown",
   "id": "da1b5364-b631-460d-a52c-b5a14902b271",
   "metadata": {},
   "source": [
    "### Types of Backtest Statistics: General Characteristics\n",
    "#### Deriving The Timing of Bets From a Series of Targets Positions"
   ]
  },
  {
   "cell_type": "code",
   "execution_count": 4,
   "id": "37531f2d-5947-4953-854d-214a8582c9b6",
   "metadata": {},
   "outputs": [],
   "source": [
    "def get_bets_timing(tPos: pd.Series) -> pd.Index:\n",
    "    df0 = tPos[tPos == 0].index\n",
    "    df1 = tPos.shift(1)\n",
    "    df1 = df1[df1 != 0].index\n",
    "    bets = df0.intersection(df1)    # flattening\n",
    "    df0 = tPos.iloc[1:] * tPos.iloc[:-1].values\n",
    "    bets = bets.union(df0[df0 < 0].index).sort_values()    # tPos flips\n",
    "    if tPos.index[-1] not in bets:\n",
    "        bets = bets.append(tPos.index[-1:])    # last bet\n",
    "    return bets"
   ]
  },
  {
   "cell_type": "code",
   "execution_count": null,
   "id": "46ca9f22-0172-4679-9f53-9ad6b54ed37f",
   "metadata": {},
   "outputs": [],
   "source": []
  }
 ],
 "metadata": {
  "kernelspec": {
   "display_name": "Python 3 (ipykernel)",
   "language": "python",
   "name": "python3"
  },
  "language_info": {
   "codemirror_mode": {
    "name": "ipython",
    "version": 3
   },
   "file_extension": ".py",
   "mimetype": "text/x-python",
   "name": "python",
   "nbconvert_exporter": "python",
   "pygments_lexer": "ipython3",
   "version": "3.11.10"
  }
 },
 "nbformat": 4,
 "nbformat_minor": 5
}
