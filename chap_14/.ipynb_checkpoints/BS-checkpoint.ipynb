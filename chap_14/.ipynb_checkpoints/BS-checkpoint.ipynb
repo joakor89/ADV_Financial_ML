{
 "cells": [
  {
   "cell_type": "markdown",
   "id": "1ed1092d-187f-4676-a7c7-38b6b681244f",
   "metadata": {},
   "source": [
    "# Backtest Statistics\n",
    "\n",
    "### Loading libraries"
   ]
  },
  {
   "cell_type": "code",
   "execution_count": 1,
   "id": "23bd127c-e0b9-4dbf-bd4c-8d1f0fc92938",
   "metadata": {},
   "outputs": [],
   "source": [
    "# Randomness\n",
    "import random\n",
    "\n",
    "# Numerical Computing\n",
    "import numpy as np\n",
    "\n",
    "# Data Manipulation\n",
    "import pandas as pd\n",
    "from pandas import Timestamp\n",
    "\n",
    "# Data Visualization\n",
    "import seaborn as sns\n",
    "import matplotlib.pyplot as plt\n",
    "\n",
    "import plotly.graph_objects as go\n",
    "import plotly.io as pio\n",
    "%matplotlib inline\n",
    "\n",
    "# Date & Time\n",
    "from datetime import datetime, timedelta\n",
    "\n",
    "# Typing\n",
    "from typing import Tuple, List, Dict, Union, Optional, Any, Generator\n",
    "\n",
    "# Scikit-Learn\n",
    "from sklearn.pipeline import Pipeline\n",
    "from sklearn.preprocessing import MinMaxScaler\n",
    "from sklearn.tree import DecisionTreeClassifier\n",
    "from sklearn.ensemble import BaggingClassifier\n",
    "from sklearn.datasets import make_classification\n",
    "from sklearn.ensemble import RandomForestClassifier\n",
    "from sklearn.model_selection import train_test_split\n",
    "from sklearn.model_selection._split import _BaseKFold\n",
    "from sklearn.model_selection import StratifiedKFold, GridSearchCV, RandomizedSearchCV\n",
    "from sklearn.metrics import accuracy_score, precision_score, recall_score, plot_roc_curve, log_loss\n",
    "\n",
    "# Scientific Statistical Python\n",
    "import scipy.cluster.hierarchy as sch\n",
    "from scipy.stats import jarque_bera\n",
    "from scipy.stats import rv_continuous, kstest, norm"
   ]
  },
  {
   "cell_type": "markdown",
   "id": "da1b5364-b631-460d-a52c-b5a14902b271",
   "metadata": {},
   "source": [
    "### Types of Backtest Statistics: General Characteristics\n",
    "#### Deriving The Timing of Bets From a Series of Targets Positions"
   ]
  },
  {
   "cell_type": "code",
   "execution_count": 2,
   "id": "37531f2d-5947-4953-854d-214a8582c9b6",
   "metadata": {},
   "outputs": [],
   "source": [
    "def get_bets_timing(tPos: pd.Series) -> pd.Index:\n",
    "    df0 = tPos[tPos == 0].index\n",
    "    df1 = tPos.shift(1)\n",
    "    df1 = df1[df1 != 0].index\n",
    "    bets = df0.intersection(df1)    # flattening\n",
    "    df0 = tPos.iloc[1:] * tPos.iloc[:-1].values\n",
    "    bets = bets.union(df0[df0 < 0].index).sort_values()    # tPos flips\n",
    "    if tPos.index[-1] not in bets:\n",
    "        bets = bets.append(tPos.index[-1:])    # last bet\n",
    "    return bets"
   ]
  },
  {
   "cell_type": "code",
   "execution_count": 3,
   "id": "c253adc2-3ef4-463c-a2bd-33ffa3ca0777",
   "metadata": {},
   "outputs": [],
   "source": [
    "def get_holding_period(tPos: pd.Series) -> float:\n",
    "    hp, tEntry = pd.DataFrame(columns=['dT', 'w']), 0.0\n",
    "    pDiff, tDiff = tPos.diff(), (tPos.index - tPos.index[0]) / np.timedelta64(1, 'D')\n",
    "    for i in range(1, tPos.shape[0]):\n",
    "        if pDiff.iloc[i] * tPos.iloc[i - 1] >= 0:    # increased or unchanged\n",
    "            if tPos.iloc[i] != 0:\n",
    "                tEntry = (tEntry * tPos.iloc[i - 1] + tDiff[i] * pDiff.iloc[i]) / tPos.iloc[i]\n",
    "        else:    # decreased\n",
    "            if tPos.iloc[i] * tPos.iloc[i-1] < 0:    # flip\n",
    "                hp.loc[tPos.index[i], ['dT', 'w']] = (tDiff[i] - tEntry, abs(tPos.iloc[i - 1]))\n",
    "                tEntry = tDiff[i]    # reset entry time\n",
    "            else:\n",
    "                hp.loc[tPos.index[i], ['dT', 'w']] = (tDiff[i] - tEntry, abs(pDiff.iloc[i]))\n",
    "    if hp['w'].sum() > 0:\n",
    "        hp = (hp['dT'] * hp['w']).sum() / hp['w'].sum()\n",
    "    else:\n",
    "        hp = np.nan\n",
    "    return hp"
   ]
  },
  {
   "cell_type": "markdown",
   "id": "d6f08c00-f381-4aad-9863-67bc5c34de7c",
   "metadata": {},
   "source": [
    "#### Deriving `HHI` Concentration"
   ]
  },
  {
   "cell_type": "code",
   "execution_count": 4,
   "id": "02f1657f-a4c1-4318-aeb0-0224bbbee423",
   "metadata": {},
   "outputs": [],
   "source": [
    "def get_HHI(betRet: pd.Series) -> float:\n",
    "    if betRet.shape[0] <= 2:\n",
    "        return np.nan\n",
    "    wght = betRet / betRet.sum()\n",
    "    hhi = (wght ** 2).sum()\n",
    "    hhi = (hhi - betRet.shape[0] ** (-1)) / (1.0 - betRet.shape[0] ** (-1))\n",
    "    return hhi"
   ]
  },
  {
   "cell_type": "markdown",
   "id": "9eb87b07-84e3-476d-81b7-e3833182249b",
   "metadata": {},
   "source": [
    "### Drawdown & Time Under Water\n",
    "#### Deriving The Sequence of `DD & TuW`"
   ]
  },
  {
   "cell_type": "code",
   "execution_count": 7,
   "id": "6a2db697-137b-4cf3-abf7-f3c6b2958f00",
   "metadata": {},
   "outputs": [],
   "source": [
    "def compute_DD_TuW(series: pd.Series, dollars: bool = False) -> Tuple[pd.Series, pd.Series]:\n",
    "    df0 = series.to_frame('pnl')\n",
    "    df0['hwm'] = series.expanding().max()\n",
    "    df1 = df0.groupby('hwm').min().reset_index()\n",
    "    df1.columns = ['hwm', 'min']\n",
    "    df1.index = df0['hwm'].drop_duplicates(keep='first').index    # time of hwm\n",
    "    df1 = df1[df1['hwm'] > df1['min']]    # hwm followed by a drawdown\n",
    "    if dollars:\n",
    "        dd = df1['hwm'] - df1['min']\n",
    "    else:\n",
    "        dd = 1 - df1['min'] / df1['hwm']\n",
    "    tuw = ((df1.index[1:] - df1.index[:-1]) / np.timedelta64(1, 'Y')).values    # in years\n",
    "    tuw = pd.Series(tuw, index=df1.index[:-1])\n",
    "    return dd, tuw"
   ]
  },
  {
   "cell_type": "code",
   "execution_count": null,
   "id": "c529f60f-19e3-42fc-89de-f849446e6d40",
   "metadata": {},
   "outputs": [],
   "source": []
  }
 ],
 "metadata": {
  "kernelspec": {
   "display_name": "Python 3 (ipykernel)",
   "language": "python",
   "name": "python3"
  },
  "language_info": {
   "codemirror_mode": {
    "name": "ipython",
    "version": 3
   },
   "file_extension": ".py",
   "mimetype": "text/x-python",
   "name": "python",
   "nbconvert_exporter": "python",
   "pygments_lexer": "ipython3",
   "version": "3.11.10"
  }
 },
 "nbformat": 4,
 "nbformat_minor": 5
}
