{
 "cells": [
  {
   "cell_type": "markdown",
   "id": "965f2490-5060-4ce5-b519-61f619265590",
   "metadata": {},
   "source": [
    "### Backtesting on Synthetic Data\n",
    "\n",
    "### Loading Libraries"
   ]
  },
  {
   "cell_type": "code",
   "execution_count": 1,
   "id": "93ff9ce0-2634-4102-bf75-29d2b22a862b",
   "metadata": {},
   "outputs": [],
   "source": [
    "# Randomness\n",
    "import random\n",
    "\n",
    "# Numerical Computing\n",
    "import numpy as np\n",
    "\n",
    "# Data Manipulation\n",
    "import pandas as pd\n",
    "from pandas import Timestamp\n",
    "\n",
    "# Data Visualization\n",
    "import seaborn as sns\n",
    "import matplotlib.pyplot as plt\n",
    "\n",
    "import plotly.graph_objects as go\n",
    "import plotly.io as pio\n",
    "%matplotlib inline\n",
    "\n",
    "# Date & Time\n",
    "from datetime import datetime, timedelta\n",
    "\n",
    "# Typing\n",
    "from typing import Tuple, List, Dict, Union, Optional, Any, Generator\n",
    "\n",
    "# Scikit-Learn\n",
    "from sklearn.pipeline import Pipeline\n",
    "from sklearn.preprocessing import MinMaxScaler\n",
    "from sklearn.ensemble import RandomForestClassifier\n",
    "from sklearn.model_selection import train_test_split\n",
    "from sklearn.metrics import accuracy_score, precision_score, recall_score, plot_roc_curve\n",
    "\n",
    "# Scientific Statistical Python\n",
    "from scipy.stats import jarque_bera\n",
    "from scipy.stats import rv_continuous, kstest"
   ]
  },
  {
   "cell_type": "markdown",
   "id": "0b83a939-7d62-405b-b9ef-93d08a7cae5b",
   "metadata": {},
   "source": [
    "### Numerical Determination of Optimal Trading Rules\n",
    "#### Setting Batch & Implementation"
   ]
  },
  {
   "cell_type": "code",
   "execution_count": 4,
   "id": "e0f83c29-ede9-4bce-a809-fb1f4ca7a10c",
   "metadata": {},
   "outputs": [],
   "source": [
    "def batch(\n",
    "    coeffs: Dict[str, float], nIter: int = 1e4, maxHP: int = 100, rPT: np.ndarray = np.linspace(0.5, 10, 20),\n",
    "    rSLm: np.ndarray = np.linspace(0.5, 10, 20), seed: float = 0.0) -> list:\n",
    "\n",
    "    phi, output1 = 2 ** (-1.0 / coeffs['hl']), []\n",
    "    for comb_ in product(rPT, rSLm):\n",
    "        output2 = []\n",
    "        for iter_ in range(int(nIter)):\n",
    "            p, hp, count = seed, 0, 0\n",
    "            while True:\n",
    "                p = (1 - phi) * coeffs['forecast'] + phi * p + coeffs['sigma'] * gauss(0, 1)\n",
    "                cP = p - seed\n",
    "                hp += 1\n",
    "                if cP > comb_[0] or cP < -comb_[1] or hp > maxHP:\n",
    "                    output2.append(cP)\n",
    "                    break\n",
    "        mean, std = np.mean(output2), np.std(output2)\n",
    "        output1.append((comb_[0], comb_[1], mean, std, mean / std))\n",
    "    return output1"
   ]
  },
  {
   "cell_type": "markdown",
   "id": "1f897c43-2447-4aa0-b0a5-59aeb0340404",
   "metadata": {},
   "source": [
    "#### Experimental Results"
   ]
  },
  {
   "cell_type": "code",
   "execution_count": 1,
   "id": "72e2a3a4-144a-4be3-8d81-d33e762d2c45",
   "metadata": {},
   "outputs": [],
   "source": [
    "def iterate_parameters():\n",
    "    rPT = rSLm = np.linspace(0,10,21)\n",
    "    count = 0\n",
    "    for prod_ in product([10, 5, 0, -5, -10], [5, 10, 25, 50, 100]):\n",
    "        count += 1\n",
    "        coeffs = {'forecast': prod_[0], 'hl': prod_[1], 'sigma': 1}\n",
    "        output = batch(coeffs, nIter=1e4, maxHP=100, rPT=rPT, rSLm=rSLm)\n",
    "    return output"
   ]
  },
  {
   "cell_type": "code",
   "execution_count": null,
   "id": "86b20375-6193-447f-a05a-5992db988baf",
   "metadata": {},
   "outputs": [],
   "source": []
  }
 ],
 "metadata": {
  "kernelspec": {
   "display_name": "Python 3 (ipykernel)",
   "language": "python",
   "name": "python3"
  },
  "language_info": {
   "codemirror_mode": {
    "name": "ipython",
    "version": 3
   },
   "file_extension": ".py",
   "mimetype": "text/x-python",
   "name": "python",
   "nbconvert_exporter": "python",
   "pygments_lexer": "ipython3",
   "version": "3.11.10"
  }
 },
 "nbformat": 4,
 "nbformat_minor": 5
}
