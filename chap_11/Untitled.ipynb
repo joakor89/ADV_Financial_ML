{
 "cells": [
  {
   "cell_type": "code",
   "execution_count": null,
   "id": "0940f5a0-1e24-4b36-9daf-e3f25219faf8",
   "metadata": {},
   "outputs": [],
   "source": [
    "# Backtesting on Synthetic Data\n",
    "\n",
    "### Loading Libraries"
   ]
  }
 ],
 "metadata": {
  "kernelspec": {
   "display_name": "Python 3 (ipykernel)",
   "language": "python",
   "name": "python3"
  },
  "language_info": {
   "codemirror_mode": {
    "name": "ipython",
    "version": 3
   },
   "file_extension": ".py",
   "mimetype": "text/x-python",
   "name": "python",
   "nbconvert_exporter": "python",
   "pygments_lexer": "ipython3",
   "version": "3.11.10"
  }
 },
 "nbformat": 4,
 "nbformat_minor": 5
}
