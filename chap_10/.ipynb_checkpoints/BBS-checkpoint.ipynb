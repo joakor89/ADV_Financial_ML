{
 "cells": [
  {
   "cell_type": "markdown",
   "id": "9cc4d497-df88-4d29-89a1-7966306e9a8d",
   "metadata": {},
   "source": [
    "# Backtesting: Bet Sizing\n",
    "\n",
    "### Loading Libraries"
   ]
  },
  {
   "cell_type": "code",
   "execution_count": 1,
   "id": "8b61ac74-aa3d-4ea6-9e10-b5bc0e2e5787",
   "metadata": {},
   "outputs": [],
   "source": [
    "# Randomness\n",
    "import random\n",
    "\n",
    "# Numerical Computing\n",
    "import numpy as np\n",
    "\n",
    "# Data Manipulation\n",
    "import pandas as pd\n",
    "from pandas import Timestamp\n",
    "\n",
    "# Data Visualization\n",
    "import seaborn as sns\n",
    "import matplotlib.pyplot as plt\n",
    "\n",
    "import plotly.graph_objects as go\n",
    "import plotly.io as pio\n",
    "%matplotlib inline\n",
    "\n",
    "# Date & Time\n",
    "from datetime import datetime, timedelta\n",
    "\n",
    "# Typing\n",
    "from typing import Tuple, List, Dict, Union, Optional, Any, Generator\n",
    "\n",
    "# Scikit-Learn\n",
    "from sklearn.pipeline import Pipeline\n",
    "from sklearn.preprocessing import MinMaxScaler\n",
    "from sklearn.ensemble import RandomForestClassifier\n",
    "from sklearn.model_selection import train_test_split\n",
    "from sklearn.metrics import accuracy_score, precision_score, recall_score, plot_roc_curve\n",
    "\n",
    "# Scientific Statistical Python\n",
    "from scipy.stats import jarque_bera\n",
    "from scipy.stats import rv_continuous, kstest"
   ]
  },
  {
   "cell_type": "markdown",
   "id": "d75d9d66-cacc-49ea-84d2-d045c90aca5d",
   "metadata": {},
   "source": [
    "### Averaging Active Bets\n",
    "#### Bets are Average as long as They're still Active"
   ]
  },
  {
   "cell_type": "code",
   "execution_count": 2,
   "id": "d4726528-2ef6-4cd8-b985-b2a7ac43824d",
   "metadata": {},
   "outputs": [],
   "source": [
    "def avg_active_signals_(signals: pd.DataFrame, molecule: np.ndarray) -> pd.Series:\n",
    "    out = pd.Series()\n",
    "    for loc in molecule:\n",
    "        df0 = (signals.index.values <= loc) & ((loc < signals['t1']) | pd.isnull(signals['t1']))\n",
    "        act = signals[df0].index\n",
    "        if len(act) > 0:\n",
    "            out[loc] = signals.loc[act, 'signal'].mean()\n",
    "        else:\n",
    "            out[loc] = 0    # no signals active at this time\n",
    "    return out"
   ]
  },
  {
   "cell_type": "code",
   "execution_count": null,
   "id": "bf3eb013-cab0-4bd7-b68c-623e61df96e1",
   "metadata": {},
   "outputs": [],
   "source": []
  }
 ],
 "metadata": {
  "kernelspec": {
   "display_name": "Python 3 (ipykernel)",
   "language": "python",
   "name": "python3"
  },
  "language_info": {
   "codemirror_mode": {
    "name": "ipython",
    "version": 3
   },
   "file_extension": ".py",
   "mimetype": "text/x-python",
   "name": "python",
   "nbconvert_exporter": "python",
   "pygments_lexer": "ipython3",
   "version": "3.11.10"
  }
 },
 "nbformat": 4,
 "nbformat_minor": 5
}
